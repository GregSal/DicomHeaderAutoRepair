{
 "cells": [
  {
   "cell_type": "markdown",
   "metadata": {},
   "source": [
    "# GUI from managing DICOM file repairs"
   ]
  },
  {
   "cell_type": "markdown",
   "metadata": {},
   "source": [
    "### Imports"
   ]
  },
  {
   "cell_type": "code",
   "execution_count": 1,
   "metadata": {},
   "outputs": [],
   "source": [
    "from pathlib import Path\n",
    "from functools import partial\n",
    "from typing import Optional, Union, Any, Dict, Tuple, List, Set, NamedTuple\n",
    "\n",
    "import PySimpleGUI as sg\n",
    "\n"
   ]
  },
  {
   "cell_type": "code",
   "execution_count": null,
   "metadata": {},
   "outputs": [],
   "source": [
    "from dicom_repair_functions import scan_dicom_images, do_repairs\n"
   ]
  },
  {
   "cell_type": "markdown",
   "metadata": {},
   "source": [
    "### Setup functions"
   ]
  },
  {
   "cell_type": "markdown",
   "metadata": {},
   "source": [
    "#### Functions to build directory selectors"
   ]
  },
  {
   "cell_type": "code",
   "execution_count": 2,
   "metadata": {},
   "outputs": [],
   "source": [
    "def file_selector(selection, file_k, frame_title,\n",
    "                    starting_path=Path.cwd(), file_type=None):\n",
    "    # Check all starting path possibilities\n",
    "    if isinstance(starting_path, str):\n",
    "        starting_path = Path(starting_path)\n",
    "    if starting_path.exists():\n",
    "        if starting_path.is_file():\n",
    "            initial_file = starting_path.name\n",
    "            initial_dir = starting_path.parent\n",
    "        elif starting_path.is_dir():\n",
    "            initial_dir = str(starting_path)\n",
    "            initial_file = ''\n",
    "    else:\n",
    "        if not starting_path.parent.exists():\n",
    "            starting_path = Path.cwd()\n",
    "            initial_dir = str(starting_path)\n",
    "            initial_file = ''\n",
    "        else:\n",
    "            initial_dir = starting_path.parent\n",
    "            initial_file = ''\n",
    "\n",
    "    # Set browser by selection type\n",
    "    if 'read file' in selection:\n",
    "        browse = sg.FileBrowse(initial_folder=initial_dir,\n",
    "                                file_types=file_type)\n",
    "        initial_text = initial_file\n",
    "    elif 'save file' in selection:\n",
    "        browse = sg.FileSaveAs(initial_folder=initial_dir,\n",
    "                                file_types=file_type)\n",
    "        initial_text = initial_file\n",
    "    elif 'read files' in selection:\n",
    "        browse = sg.FilesBrowse(initial_folder=initial_dir,\n",
    "                                file_types=file_type)\n",
    "        initial_text = initial_file\n",
    "    elif 'dir' in selection:\n",
    "        browse = sg.FolderBrowse(initial_folder=initial_dir)\n",
    "        initial_text = initial_dir\n",
    "    else:\n",
    "        raise ValueError(f'{selection} is not a valid browser type')\n",
    "\n",
    "    # Build the selector group\n",
    "    file_selector_frame = sg.Frame(title=frame_title, layout=[\n",
    "        [sg.InputText(key=file_k, default_text=initial_text, size=(90, 1)),\n",
    "         browse]])\n",
    "\n",
    "    return file_selector_frame\n"
   ]
  },
  {
   "cell_type": "code",
   "execution_count": 3,
   "metadata": {},
   "outputs": [],
   "source": [
    "def make_file_selection_frame(starting_input_path: Path,\n",
    "                              starting_output_path: Path)->sg.Frame:\n",
    "    # Select Input Directory\n",
    "    input_title = 'Select the directory containing DICOM files to be repaired.'\n",
    "    input_path_def = dict(frame_title=input_title, file_k='input_folder',\n",
    "                        selection='dir', starting_path=starting_input_path)\n",
    "    input_path_selector = file_selector(**input_path_def)\n",
    "\n",
    "    # Select Output Directory\n",
    "    output_title = ''.join(['Select the directory where repaired DICOM files',\n",
    "                            'will be saved.'])\n",
    "    output_path_def = dict(frame_title=output_title, file_k='output_folder',\n",
    "                        selection='dir',starting_path=starting_output_path)\n",
    "    output_path_selector = file_selector(**output_path_def)\n",
    "\n",
    "    # Should Sub-Directories be included?\n",
    "    help_text = ''.join(['Iteratively search all subdirectories of the ',\n",
    "                        'supplied directory for DICOM files'])\n",
    "    include_sub_dir_check = sg.Checkbox('Include Sub-Directories?',\n",
    "                                        tooltip=help_text, default=True,\n",
    "                                        key='include_sub_dir',expand_x = True)\n",
    "    # Widget layout\n",
    "    path_selection_layout=[\n",
    "        [input_path_selector],\n",
    "        [include_sub_dir_check],\n",
    "        [output_path_selector]]\n",
    "\n",
    "    # Build the frame\n",
    "    path_frame = sg.Frame(key='Dir Selection',\n",
    "                        title='Directories',\n",
    "                        title_location=sg.TITLE_LOCATION_TOP_LEFT,\n",
    "                        layout=path_selection_layout)\n",
    "    return path_frame\n"
   ]
  },
  {
   "cell_type": "markdown",
   "metadata": {},
   "source": [
    "#### Function to make buttons"
   ]
  },
  {
   "cell_type": "code",
   "execution_count": 4,
   "metadata": {},
   "outputs": [],
   "source": [
    "def make_actions_buttons()->sg.Column:\n",
    "    help_text = 'Begin repairing DICOM files.'\n",
    "    start_button = sg.Button(button_text='Repair', key='start_repair',\n",
    "                             tooltip=help_text, button_color='blue',\n",
    "                             disabled_button_color = None,\n",
    "                             highlight_colors = None,\n",
    "                             mouseover_colors = (None, None),\n",
    "                             font = None,\n",
    "                             size = (None, None), pad = None,\n",
    "                             border_width = None, auto_size_button = None,\n",
    "                             disabled = False, visible = True)\n",
    "    actions_list = sg.Column([[start_button, sg.Quit(button_color='red')]])\n",
    "    return actions_list\n"
   ]
  },
  {
   "cell_type": "markdown",
   "metadata": {},
   "source": [
    "#### Functions to track progress\n",
    "##### Build Status Frame"
   ]
  },
  {
   "cell_type": "code",
   "execution_count": 5,
   "metadata": {},
   "outputs": [],
   "source": [
    "class ProgressBar(sg.ProgressBar):\n",
    "    '''A progress bar that tracks it's own progress.\n",
    "    '''\n",
    "    def __init__(self, *args, value=0, **kwargs):\n",
    "        '''Generate the progress bar and add the starting value.\n",
    "        Args:\n",
    "            value (int, optional): The starting value for the progress bar.\n",
    "                Defaults to 0.\n",
    "        '''\n",
    "        super().__init__(*args, **kwargs)\n",
    "        self.value = value\n",
    "\n",
    "    def update(self, *args, **kwargs)->bool:\n",
    "        '''Update the progress bar and set the current value, if it is given.\n",
    "\n",
    "        Returns:\n",
    "            bool: Returns True if update was OK. False means something wrong\n",
    "                with window or it was closed.\n",
    "        '''\n",
    "        status = super().update(*args, **kwargs)\n",
    "        # if current_count is given, update the value attribute.\n",
    "        if 'current_count' in kwargs:\n",
    "            current_count = kwargs['current_count']\n",
    "        elif len(args) > 0:\n",
    "            current_count = args[0]\n",
    "        else:\n",
    "            current_count = None\n",
    "        if current_count is not None:\n",
    "            self.value = current_count\n",
    "        return status\n",
    "\n",
    "    def increment(self, step_size=1):\n",
    "        '''Increase the progress bar value by step_size.\n",
    "\n",
    "        Args:\n",
    "            step_size (int): the amount to increment the progress level by.\n",
    "\n",
    "        Returns:\n",
    "            bool: Returns True if update was OK. False means something wrong\n",
    "                with window or it was closed.\n",
    "        '''\n",
    "        current_level = self.value\n",
    "        if not current_level:\n",
    "            current_level = 0\n",
    "        new_level = current_level + step_size\n",
    "        status = self.update(new_level)\n",
    "        return status\n"
   ]
  },
  {
   "cell_type": "code",
   "execution_count": 6,
   "metadata": {},
   "outputs": [],
   "source": [
    "def make_status_frame()->sg.Frame:\n",
    "    '''Build the status reporting widget set.'''\n",
    "    status_layout=[\n",
    "        [sg.Multiline(key='Status', autoscroll=True,\n",
    "                      size=(97,10), pad=(10,10))],\n",
    "        [ProgressBar(max_value=100, orientation='h', size=(62, 30),\n",
    "                        pad=(10,10), key='Progress')]\n",
    "        ]\n",
    "    status_frame = sg.Frame(title='Status',\n",
    "                            title_location=sg.TITLE_LOCATION_TOP,\n",
    "                            layout=status_layout)\n",
    "    return status_frame\n"
   ]
  },
  {
   "cell_type": "markdown",
   "metadata": {},
   "source": [
    "##### Status reporting function"
   ]
  },
  {
   "cell_type": "code",
   "execution_count": 7,
   "metadata": {},
   "outputs": [],
   "source": [
    "def print_to_window(main_window: sg.Window, status_element: sg.Element, text: str):\n",
    "    '''Status reporting function framework.\n",
    "\n",
    "    Args:\n",
    "        main_window (sg.Window): Window containing the widget.\n",
    "        status_element (sg.Element): The widget element.\n",
    "        text (str): _description_\n",
    "    '''\n",
    "    status_element.print(text, text_color=None, background_color=None)\n",
    "    main_window.refresh()\n"
   ]
  },
  {
   "cell_type": "markdown",
   "metadata": {},
   "source": [
    "#### Main window function"
   ]
  },
  {
   "cell_type": "code",
   "execution_count": 8,
   "metadata": {},
   "outputs": [],
   "source": [
    "#%% Main Window\n",
    "def make_window(starting_input_path: Path, starting_output_path: Path):\n",
    "    '''This blocks out the main sections of the GUI.\n",
    "\n",
    "    Returns:\n",
    "        sg.Window: The main GUI window.\n",
    "    '''\n",
    "    path_frame = make_file_selection_frame(starting_input_path,\n",
    "                                           starting_output_path)\n",
    "    actions_group = make_actions_buttons()\n",
    "    status_frame = make_status_frame()\n",
    "\n",
    "    main_layout = [\n",
    "        [path_frame],\n",
    "        [actions_group],\n",
    "        [status_frame]\n",
    "        ]\n",
    "\n",
    "    window = sg.Window('DICOM Repair', finalize=True, resizable=True,\n",
    "                       layout=main_layout)\n",
    "    return window\n"
   ]
  },
  {
   "cell_type": "code",
   "execution_count": 9,
   "metadata": {},
   "outputs": [],
   "source": [
    "def get_file_paths(window):\n",
    "    # Get file paths\n",
    "    process_repairs = True\n",
    "    while True:\n",
    "        event, values = window.read()\n",
    "        if event == sg.WIN_CLOSED:\n",
    "            process_repairs = False\n",
    "            window.close()\n",
    "            break\n",
    "        if event == 'Quit':\n",
    "            process_repairs = False\n",
    "            window.close()\n",
    "            break\n",
    "        if event == 'start_repair':\n",
    "            process_repairs = True\n",
    "            break\n",
    "    values['process_repairs'] = process_repairs\n",
    "    return values\n"
   ]
  },
  {
   "cell_type": "code",
   "execution_count": 11,
   "metadata": {},
   "outputs": [],
   "source": [
    "def status_output(main_window: sg.Window, status_element: sg.Element,\n",
    "                  progress_element: sg.Element, repair_log: List[str],\n",
    "                  message='', value: int = None, max_count: int = None):\n",
    "    '''Sends message to status widget and updates progress bar as needed.\n",
    "\n",
    "    Args:\n",
    "        main_window (sg.Window): Window containing the status and\n",
    "            progress bar widgets.\n",
    "        status_element (sg.Element): The status widget element object.\n",
    "        progress_element (sg.Element): The progress bar widget element object.\n",
    "        message (str, optional): The new repair log message. If the string is\n",
    "            empty, status and repair_log will not be updated. Defaults to an\n",
    "            empty string.\n",
    "        repair_log (List[str]): A list of all repair log messages.  Used for\n",
    "            stats analysis.\n",
    "        value (int, optional): A specific progress level to be set. If supplied,\n",
    "            the progress level will be modified to the given value regardless of\n",
    "            previous values. Defaults to None.\n",
    "        max_count (int, optional): The maximum (100%) progress level. If\n",
    "            supplied, the maximum progress level will be set to this value and\n",
    "            the progress level will be reset to 0. Defaults to None.\n",
    "    '''\n",
    "    if max_count:\n",
    "        progress_element.update(0, max=max_count)\n",
    "    if value:\n",
    "        progress_element.update(value)\n",
    "    if message:\n",
    "        status_element.print(message, text_color=None, background_color=None)\n",
    "        repair_log.append(message)\n",
    "        if 'Checking file' in message:\n",
    "            progress_element.increment()\n",
    "    main_window.refresh()\n"
   ]
  },
  {
   "cell_type": "markdown",
   "metadata": {},
   "source": [
    "# Testing"
   ]
  },
  {
   "cell_type": "code",
   "execution_count": 10,
   "metadata": {},
   "outputs": [],
   "source": [
    "data_path = Path.cwd() / 'DICOM Test Data'\n",
    "output_path = Path.cwd() / 'Output'\n",
    "\n",
    "test_data_path = Path(r'.\\DICOM Test Data\\Invalid^Characters [Error3]\\Series 012 [PT - MAC]')\n"
   ]
  },
  {
   "cell_type": "markdown",
   "metadata": {},
   "source": [
    "### Build GUI"
   ]
  },
  {
   "cell_type": "code",
   "execution_count": 12,
   "metadata": {},
   "outputs": [
    {
     "data": {
      "text/plain": [
       "<PySimpleGUI.PySimpleGUI.Window at 0x205d0a32820>"
      ]
     },
     "execution_count": 12,
     "metadata": {},
     "output_type": "execute_result"
    }
   ],
   "source": [
    "window = make_window(starting_input_path=test_data_path,\n",
    "                     starting_output_path=output_path)\n",
    "repair_log = []\n",
    "status_update = partial(status_output, window, window['Status'],\n",
    "                        window['Progress'], repair_log)\n",
    "window.refresh()\n"
   ]
  },
  {
   "cell_type": "markdown",
   "metadata": {},
   "source": [
    "### Select paths"
   ]
  },
  {
   "cell_type": "code",
   "execution_count": 13,
   "metadata": {},
   "outputs": [],
   "source": [
    "values = get_file_paths(window)\n",
    "if values['process_repairs']:\n",
    "    data_path = Path(values['input_folder'])\n",
    "    output_path = Path(values['output_folder'])\n",
    "    include_subdirectories = values['include_sub_dir']\n"
   ]
  },
  {
   "cell_type": "code",
   "execution_count": 16,
   "metadata": {},
   "outputs": [],
   "source": [
    "file_gen = scan_dicom_images(data_path, include_subdirectories)\n",
    "number_of_files = len([f for f in file_gen])\n",
    "number_of_files\n",
    "status_update(f'Found {number_of_files} files', max_count=number_of_files)\n"
   ]
  },
  {
   "cell_type": "code",
   "execution_count": 17,
   "metadata": {},
   "outputs": [],
   "source": [
    "status_update('Test message', value=50)\n"
   ]
  },
  {
   "cell_type": "code",
   "execution_count": 20,
   "metadata": {},
   "outputs": [
    {
     "data": {
      "text/plain": [
       "True"
      ]
     },
     "execution_count": 20,
     "metadata": {},
     "output_type": "execute_result"
    }
   ],
   "source": [
    "window['Progress'].increment()\n"
   ]
  },
  {
   "cell_type": "code",
   "execution_count": 21,
   "metadata": {},
   "outputs": [],
   "source": [
    "window.close()\n"
   ]
  }
 ],
 "metadata": {
  "kernelspec": {
   "display_name": "Python 3.9.13 ('DICOM_Repair')",
   "language": "python",
   "name": "python3"
  },
  "language_info": {
   "codemirror_mode": {
    "name": "ipython",
    "version": 3
   },
   "file_extension": ".py",
   "mimetype": "text/x-python",
   "name": "python",
   "nbconvert_exporter": "python",
   "pygments_lexer": "ipython3",
   "version": "3.9.13"
  },
  "orig_nbformat": 4,
  "vscode": {
   "interpreter": {
    "hash": "e3c75f6744847e5ea3f9a356030a1039cdb96230af4967b4ac1effd74159c360"
   }
  }
 },
 "nbformat": 4,
 "nbformat_minor": 2
}
