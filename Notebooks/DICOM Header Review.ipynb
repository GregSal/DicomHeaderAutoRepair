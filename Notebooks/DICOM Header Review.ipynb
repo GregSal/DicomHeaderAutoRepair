{
 "cells": [
  {
   "cell_type": "markdown",
   "metadata": {},
   "source": [
    "# Examine DICOM Headers for Problems"
   ]
  },
  {
   "cell_type": "markdown",
   "metadata": {},
   "source": [
    "### Imports"
   ]
  },
  {
   "cell_type": "code",
   "execution_count": 1,
   "metadata": {},
   "outputs": [],
   "source": [
    "from typing import List, Callable\n",
    "from pathlib import Path\n",
    "\n",
    "import pydicom\n",
    "import pandas as pd\n",
    "import xlwings as xw"
   ]
  },
  {
   "cell_type": "markdown",
   "metadata": {},
   "source": [
    "#### Read the DICOM file."
   ]
  },
  {
   "cell_type": "code",
   "execution_count": 2,
   "metadata": {},
   "outputs": [],
   "source": [
    "def load_header(file_path: Path, \n",
    "                status_output: Callable = None)->pydicom.Dataset:\n",
    "    '''Load DICOM meta data from a given file.    \n",
    "\n",
    "    Args:\n",
    "        file_path (Path): Path to the DICOM file.\n",
    "\n",
    "    Returns:\n",
    "        pydicom.Dataset: The full dataset read from the DICOM file. If the file \n",
    "            does not contain valid DICOM data, returns None.\n",
    "    '''\n",
    "    if status_output is None:\n",
    "        status_output = print\n",
    "    try:\n",
    "        dataset = pydicom.dcmread(file_path)\n",
    "    except pydicom.errors.InvalidDicomError:\n",
    "        message = f'{file_path.name} did not contain valid DICOM data.  Skipped.'\n",
    "        status_output(message)\n",
    "        dataset = None\n",
    "\n",
    "    return dataset\n"
   ]
  },
  {
   "cell_type": "markdown",
   "metadata": {},
   "source": [
    "#### Scan a directory of DICOM files, yielding the DICOM datasets."
   ]
  },
  {
   "cell_type": "code",
   "execution_count": 3,
   "metadata": {},
   "outputs": [],
   "source": [
    "def get_dicom_images(data_path: Path,\n",
    "                     status_output: Callable = None,\n",
    "                     include_subdirectories=True)->pydicom.Dataset:\n",
    "    '''Yield DICOM meta data for each file in a given directory.    \n",
    "\n",
    "    Args:\n",
    "        file_path (Path): Path to the directory containing DICOM files.\n",
    "        status_output (Callable): A function taking one string parameter.  Used \n",
    "            for reporting the results of the trying to load the DICOM file.\n",
    "        include_subdirectories (bool) If True subdirectories of the supplied \n",
    "            directory will also be scanned.\n",
    "\n",
    "    Yields:\n",
    "        pydicom.Dataset: The full dataset read from the DICOM file. If the file \n",
    "            does not contain valid DICOM data, returns None.\n",
    "    '''\n",
    "    if status_output is None:\n",
    "        status_output = print\n",
    "    if include_subdirectories:\n",
    "        scan_pattern = '**/*'\n",
    "    else:\n",
    "        scan_pattern = '*.*'\n",
    "    for dicom_file in data_path.glob(scan_pattern):\n",
    "        if dicom_file.is_file():\n",
    "            message = f'Checking file {dicom_file.name}'\n",
    "            status_output(message)\n",
    "            dataset = load_header(dicom_file, status_output)\n",
    "            if dataset:\n",
    "                yield dataset\n"
   ]
  },
  {
   "cell_type": "code",
   "execution_count": 4,
   "metadata": {},
   "outputs": [],
   "source": [
    "def scan_headers(input_path: Path, desired_tags: List[str], \n",
    "                 status_output: Callable = None)->pd.DataFrame:\n",
    "    '''Identify and apply necessary DICOM metadata repairs.\n",
    "\n",
    "    Iterate through each DICOM file in the `input_path` folder, obtaining the \n",
    "    requested DICOM tags from each header.\n",
    "\n",
    "    Args:\n",
    "        input_path (Path): Path to the directory containing DICOM files.\n",
    "        desired_tags (List[str]): List of desired DICOM tags to capture.\n",
    "        status_output (Callable): A function taking one string parameter. \n",
    "           Used for reporting progress.\n",
    "    '''\n",
    "    if status_output is None:\n",
    "        status_output = print    \n",
    "    image_id_tags = [\n",
    "        'StudyID',\n",
    "        'SeriesNumber',\n",
    "        'StudyDescription',\n",
    "        'SeriesDescription',\n",
    "        'Modality', \n",
    "        'InstanceNumber',\n",
    "        'SliceLocation'\n",
    "        ]\n",
    "    all_tags = image_id_tags + desired_tags\n",
    "    all_header_data = []\n",
    "    for dataset in get_dicom_images(input_path, status_output):\n",
    "        header_data = {}\n",
    "        for tag in all_tags:\n",
    "            value = dataset.get(tag)\n",
    "            header_data[tag] = str(value)\n",
    "        all_header_data.append(header_data)\n",
    "    header_table = pd.DataFrame(all_header_data)\n",
    "    return header_table\n",
    "\n"
   ]
  },
  {
   "cell_type": "markdown",
   "metadata": {},
   "source": [
    "## Scan all Images in a directory"
   ]
  },
  {
   "cell_type": "markdown",
   "metadata": {},
   "source": [
    "### Data Input and Output paths"
   ]
  },
  {
   "cell_type": "code",
   "execution_count": 5,
   "metadata": {},
   "outputs": [],
   "source": [
    "#data_path = Path.cwd() / 'DICOM Test Data'\n",
    "data_path = Path(r'\\\\dkphysicspv1\\Radiation_Therapy\\DICOM_IMPORT\\Import Repair\\repaired')\n",
    "#data_path = Path(r'\\\\dkphysicspv1\\Radiation_Therapy\\DICOM_IMPORT\\Import Repair\\to fix')\n",
    "output_path = Path.cwd() / 'Output'"
   ]
  },
  {
   "cell_type": "code",
   "execution_count": 6,
   "metadata": {},
   "outputs": [],
   "source": [
    "def dummy(text: str):\n",
    "    '''Function that does nothing'''\n",
    "    pass"
   ]
  },
  {
   "cell_type": "code",
   "execution_count": 7,
   "metadata": {},
   "outputs": [],
   "source": [
    "desired_tags = [\n",
    "    'InstitutionAddress',\n",
    "    'InstitutionName',\n",
    "    'Manufacturer',\n",
    "    'ManufacturerModelName',\n",
    "    'StationName',\n",
    "    'DeviceSerialNumber',\n",
    "    'SoftwareVersions'\n",
    "    ]"
   ]
  },
  {
   "cell_type": "code",
   "execution_count": 8,
   "metadata": {},
   "outputs": [],
   "source": [
    "header_table = scan_headers(data_path, desired_tags, status_output=dummy)"
   ]
  },
  {
   "cell_type": "code",
   "execution_count": 9,
   "metadata": {},
   "outputs": [],
   "source": [
    "xw.view(header_table)"
   ]
  }
 ],
 "metadata": {
  "kernelspec": {
   "display_name": "DICOM_Repair",
   "language": "python",
   "name": "python3"
  },
  "language_info": {
   "codemirror_mode": {
    "name": "ipython",
    "version": 3
   },
   "file_extension": ".py",
   "mimetype": "text/x-python",
   "name": "python",
   "nbconvert_exporter": "python",
   "pygments_lexer": "ipython3",
   "version": "3.9.13"
  },
  "orig_nbformat": 4
 },
 "nbformat": 4,
 "nbformat_minor": 2
}
