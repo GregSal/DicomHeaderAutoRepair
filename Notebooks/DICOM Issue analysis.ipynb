{
 "cells": [
  {
   "cell_type": "markdown",
   "metadata": {},
   "source": [
    "# Diagnosis and Fix PET Import Problems"
   ]
  },
  {
   "cell_type": "markdown",
   "metadata": {},
   "source": [
    "### Imports"
   ]
  },
  {
   "cell_type": "code",
   "execution_count": 1,
   "metadata": {},
   "outputs": [],
   "source": [
    "from typing import List, Callable\n",
    "from pathlib import Path\n",
    "\n",
    "import pydicom\n"
   ]
  },
  {
   "cell_type": "markdown",
   "metadata": {},
   "source": [
    "### Utility Functions"
   ]
  },
  {
   "cell_type": "code",
   "execution_count": 2,
   "metadata": {},
   "outputs": [],
   "source": [
    "repair_log = []\n",
    "def status_output(message):\n",
    "    '''Record and print repair messages.\n",
    "    Args:\n",
    "        message (str): Repair message.\n",
    "    '''\n",
    "    repair_log.append(message)\n",
    "    #print(message)\n"
   ]
  },
  {
   "cell_type": "markdown",
   "metadata": {},
   "source": [
    "#### Read the DICOM file."
   ]
  },
  {
   "cell_type": "code",
   "execution_count": 3,
   "metadata": {},
   "outputs": [],
   "source": [
    "def load_header(file_path: Path, status_output: Callable)->pydicom.Dataset:\n",
    "    '''Load DICOM meta data from a given file.\n",
    "\n",
    "    Args:\n",
    "        file_path (Path): Path to the DICOM file.\n",
    "\n",
    "    Returns:\n",
    "        pydicom.Dataset: The full dataset read from the DICOM file. If the file\n",
    "            does not contain valid DICOM data, returns None.\n",
    "    '''\n",
    "    try:\n",
    "        dataset = pydicom.dcmread(file_path)\n",
    "    except pydicom.errors.InvalidDicomError:\n",
    "        message = f'{file_path.name} did not contain valid DICOM data.  Skipped.'\n",
    "        status_output(message)\n",
    "        dataset = None\n",
    "\n",
    "    return dataset\n"
   ]
  },
  {
   "cell_type": "markdown",
   "metadata": {},
   "source": [
    "#### Scan a directory of DICOM files, yielding the DICOM datasets."
   ]
  },
  {
   "cell_type": "code",
   "execution_count": 4,
   "metadata": {},
   "outputs": [],
   "source": [
    "def get_dicom_images(data_path: Path,\n",
    "                     status_output=print,\n",
    "                     include_subdirectories=True)->pydicom.Dataset:\n",
    "    '''Yield DICOM meta data for each file in a given directory.\n",
    "\n",
    "    Args:\n",
    "        file_path (Path): Path to the directory containing DICOM files.\n",
    "        status_output (Callable): A function taking one string parameter.  Used\n",
    "            for reporting the results of the trying to load the DICOM file.\n",
    "        include_subdirectories (bool) If True subdirectories of the supplied\n",
    "            directory will also be scanned.\n",
    "\n",
    "    Yields:\n",
    "        pydicom.Dataset: The full dataset read from the DICOM file. If the file\n",
    "            does not contain valid DICOM data, returns None.\n",
    "    '''\n",
    "    if include_subdirectories:\n",
    "        scan_pattern = '**/*'\n",
    "    else:\n",
    "        scan_pattern = '*.*'\n",
    "    for dicom_file in data_path.glob(scan_pattern):\n",
    "        if dicom_file.is_file():\n",
    "            message = f'Checking file {dicom_file.name}'\n",
    "            status_output(message)\n",
    "            dataset = load_header(dicom_file, status_output)\n",
    "            if dataset:\n",
    "                yield dataset\n"
   ]
  },
  {
   "cell_type": "markdown",
   "metadata": {},
   "source": [
    "#### Generate a DICOM filename."
   ]
  },
  {
   "cell_type": "code",
   "execution_count": 5,
   "metadata": {},
   "outputs": [],
   "source": [
    "def build_dicom_file_name(dataset: pydicom.Dataset)->str:\n",
    "    '''Generate a filename for a given DICOM dataset.\n",
    "\n",
    "    The filename consists of the DICOM modality, the Instance UID and the\n",
    "    '.dcm' extension.\n",
    "\n",
    "    Args:\n",
    "        dataset (pydicom.Dataset): The DICOM dataset requiring a corresponding\n",
    "            file name.\n",
    "\n",
    "    Returns:\n",
    "        str: A filename based on the information in the DICOM dataset.\n",
    "    '''\n",
    "    modality = dataset.data_element('Modality').value\n",
    "    instance_uid = dataset.data_element('SOPInstanceUID').value\n",
    "    file_name = ''.join([\n",
    "        modality,\n",
    "        instance_uid,\n",
    "        '.dcm'\n",
    "        ])\n",
    "    return file_name\n"
   ]
  },
  {
   "cell_type": "markdown",
   "metadata": {},
   "source": [
    "#### Save a DICOM file"
   ]
  },
  {
   "cell_type": "code",
   "execution_count": 6,
   "metadata": {},
   "outputs": [],
   "source": [
    "def save_dicom_dataset(dataset: pydicom.Dataset, output_path: Path):\n",
    "    '''Save a DICOM file with a name based on the information in the dataset.\n",
    "\n",
    "    Args:\n",
    "        dataset (pydicom.Dataset): The DICOM dataset to be saved.\n",
    "        output_path (Path): Path to the directory where the DICOM dataset\n",
    "            will be saved.\n",
    "    '''\n",
    "    output_file_name = build_dicom_file_name(dataset)\n",
    "    output_file_path = output_path / output_file_name\n",
    "    dataset.save_as(output_file_path)\n"
   ]
  },
  {
   "cell_type": "markdown",
   "metadata": {},
   "source": [
    "#### Apply Repair Functions"
   ]
  },
  {
   "cell_type": "code",
   "execution_count": 7,
   "metadata": {},
   "outputs": [],
   "source": [
    "def perform_repairs(input_path: Path, output_path: Path,\n",
    "                    repair_methods: List[Callable],\n",
    "                    status_output: Callable):\n",
    "    '''Identify and apply necessary DICOM metadata repairs.\n",
    "\n",
    "    Iterate through each DICOM file in the `input_path` folder.  Apply any\n",
    "    necessary repairs and save the results DICOM dataset in the directory\n",
    "    specified by `output_path`.  Invalid DICOM files will not be saved and\n",
    "    directory structure is not maintained.\n",
    "\n",
    "    Args:\n",
    "        input_path (Path): Path to the directory containing DICOM files.\n",
    "        output_path (Path): Path to the directory where the repaired DICOM\n",
    "            files will be stored.\n",
    "        repair_methods (List[Callable]): DICOM dataset repair functions.  The\n",
    "            function must take the following parameters:\n",
    "            - dataset (pydicom.Dataset): The DICOM dataset to be repaired.\n",
    "            - status_output (Callable): A function taking one string parameter,\n",
    "                used for reporting the results of the repair.\n",
    "        status_output (Callable): A function taking one string parameter.\n",
    "            Passed to each of the repair_methods. Used for reporting the\n",
    "            results of the repair.\n",
    "    '''\n",
    "    for dataset in get_dicom_images(input_path, status_output):\n",
    "        for repair_method in repair_methods:\n",
    "            dataset = repair_method(dataset, status_output)\n",
    "            if dataset:\n",
    "                save_dicom_dataset(dataset, output_path)\n"
   ]
  },
  {
   "cell_type": "markdown",
   "metadata": {},
   "source": [
    "## Repair Functions"
   ]
  },
  {
   "cell_type": "markdown",
   "metadata": {},
   "source": [
    "### Repair Invalid Character\n",
    "\n",
    "*Problems*\n",
    "- The \"Body Part Examined\" tag (0018, 0015) or the \"Other Patient IDs\" tag (0010, 1000) contain invalid characters.\n",
    "\n",
    "*Repair Process*\n",
    "- Invalid characters are identified by the tag value beginning with a \"/\"\n",
    "- Tag values containing invalid characters are replaced with blank text \"\""
   ]
  },
  {
   "cell_type": "code",
   "execution_count": 8,
   "metadata": {},
   "outputs": [],
   "source": [
    "def fix_invalid_characters(dataset: pydicom.Dataset,\n",
    "                           status_output: Callable)->pydicom.Dataset:\n",
    "    '''Identify and remove certain elements containing invalid characters.\n",
    "\n",
    "    Two DICOM elements are checked for invalid characters:\n",
    "    - \"Body Part Examined\" (0018, 0015)\n",
    "    - \"Other Patient IDs\" (0010, 1000)\n",
    "\n",
    "    Invalid characters are identified by the element's value beginning with\n",
    "    a \"/\", which is the beginning of a escape sequence for non-printable text.\n",
    "    Elements values containing invalid characters are replaced with blank\n",
    "    text \"\".\n",
    "\n",
    "    Args:\n",
    "        dataset (pydicom.Dataset): The full DICOM dataset.\n",
    "        status_output (Callable): Function for reporting the results of the\n",
    "            repair attempt.\n",
    "\n",
    "    Returns:\n",
    "        pydicom.Dataset: The DICOM dataset with any repairs made.\n",
    "    '''\n",
    "    data_elements = ['BodyPartExamined', 'OtherPatientIDs']\n",
    "    message_format = ''.join([\n",
    "        'Invalid Character found in element {name}.',\n",
    "        '\\tReplaced with blank string.'\n",
    "        ])\n",
    "    for element_name in data_elements:\n",
    "        if element_name in dataset:\n",
    "            data_element = dataset.data_element(element_name)\n",
    "            if data_element.value.startswith(r'/'):\n",
    "                message = message_format.format(name=element_name)\n",
    "                status_output(message)\n",
    "                data_element.value = ''\n",
    "    return dataset\n"
   ]
  },
  {
   "cell_type": "markdown",
   "metadata": {},
   "source": [
    "### Repair Incorrect Modality\n",
    "\n",
    "*Problems*\n",
    "1. The DICOM Modality tag (0008, 0060) of the PET image series is labeled “CT”.\n",
    "or\n",
    "2. The DICOM Modality tag (0008, 0060) of the CT image series is labeled \"NM\" or \"OT\".\n",
    "\n",
    "*Repair Process*\n",
    "- CT images are identified by the presence of the KVP tag (0018, 0060)\n",
    "- PET images are identified by the presence of the Radiopharmaceutical Information Sequence (0054, 0016)\n",
    "- If the image type does not match with the modality value it is corrected.\n"
   ]
  },
  {
   "cell_type": "code",
   "execution_count": 9,
   "metadata": {},
   "outputs": [],
   "source": [
    "def fix_incorrect_modality(dataset: pydicom.Dataset,\n",
    "                           status_output: Callable)->pydicom.Dataset:\n",
    "    '''Check that the image modality element matches the actual image type.\n",
    "\n",
    "    The DICOM \"Modality\" element (0008, 0060) must be “CT” for CT images and\n",
    "    \"PT\" for PET images.  The image type is identified using surrogate elements\n",
    "    that contain image parameters unique to that particular image type. CT\n",
    "    images are identified by the presence of the \"KVP\" (0018, 0060) element.\n",
    "    PET images are identified by the presence of the\n",
    "    \"Radiopharmaceutical Information Sequence\" (0054, 0016) element.\n",
    "\n",
    "    If the image type does not match with the modality value it is corrected.\n",
    "\n",
    "    Args:\n",
    "        dataset (pydicom.Dataset): The full DICOM dataset.\n",
    "        status_output (Callable): Function for reporting the results of the\n",
    "            repair attempt.\n",
    "\n",
    "    Returns:\n",
    "        pydicom.Dataset: The DICOM dataset with any repairs made, or None if\n",
    "            the DICOM dataset does not contain the \"Modality\" element.\n",
    "    '''\n",
    "    message_format = ''.join([\n",
    "        'Incorrect Modality found.',\n",
    "        '\\tModality changed from \"{old_modality}\" to \"{new_modality}\"'\n",
    "        ])\n",
    "\n",
    "    # if 'Modality' element is not present the DICOM data set is invalid.\n",
    "    if 'Modality' not in dataset:\n",
    "        message = 'Modality element not found. File not used.'\n",
    "        status_output(message)\n",
    "        dataset = None\n",
    "    else:\n",
    "        # CHeck modality set against image type\n",
    "        modality = dataset.data_element('Modality').value\n",
    "        # Identify CT images\n",
    "        if 'KVP' in dataset:\n",
    "            if 'CT' not in modality:\n",
    "                message = message_format.format(old_modality=modality,\n",
    "                                                new_modality='CT')\n",
    "                status_output(message)\n",
    "                dataset.data_element('Modality').value = 'CT'\n",
    "\n",
    "        # Identify PET images\n",
    "        if 'RadiopharmaceuticalInformationSequence' in dataset:\n",
    "            if 'PT' not in modality:\n",
    "                message = message_format.format(old_modality=modality,\n",
    "                                                new_modality='PT')\n",
    "                status_output(message)\n",
    "                dataset.data_element('Modality').value = 'PT'\n",
    "\n",
    "    return dataset\n"
   ]
  },
  {
   "cell_type": "markdown",
   "metadata": {},
   "source": [
    "### Repair Mismatched Addresses\n",
    "\n",
    "*Problems*\n",
    "- The \"Institution Address\" tag (0008, 0081) of the PET image series is different from the CT image series.\n",
    "- Other related tags that should match, but don't cause the same import error are:\n",
    "  - Manufacturer (0008,0070)\n",
    "  - Manufacturer Model Name (0008,1090)\n",
    "  - Device Serial Number (0018,1000)\n",
    "  - Software Versions (0018,1020)\n",
    "  - Institution Name (0008,0080)\n",
    "  - Institutional Department Name (0008,1040)\n",
    "  - Station Name(0008,1010)\n",
    "- The problem appears to be limited to PET CTs coming from Mississauga\n",
    "\n",
    "*Repair Process*\n",
    "- Ideally, the \"Institution Address\" for all images should be read and verified as identical.\n",
    "- In practice, since the problem appears to be limited to PET CTs coming from Mississauga and the \"Institution Address\" is not a critical piece of information, any \"Institution Address\" containing \"Mississauga\" will be cleared.\n"
   ]
  },
  {
   "cell_type": "code",
   "execution_count": 10,
   "metadata": {},
   "outputs": [],
   "source": [
    "def fix_incorrect_address(dataset: pydicom.Dataset,\n",
    "                           status_output: Callable)->pydicom.Dataset:\n",
    "    '''Repair suspected mismatched institution addresses.\n",
    "\n",
    "    Eclipse requires that the DICOM \"InstitutionAddress\" element (0008, 0081)\n",
    "    be the same for all images (CT and PET) in the same study.  From our\n",
    "    experience, this problem only occurs with PET-CTs coming from Mississauga.\n",
    "    For the sake of speed, we do not compare the PET and CT addresses.  Since\n",
    "    \"Institution Address\" is not a critical piece of information, any time the\n",
    "    \"Institution Address\" contains \"Mississauga\" it is set to a blank string.\n",
    "\n",
    "    Args:\n",
    "        dataset (pydicom.Dataset): The full DICOM dataset.\n",
    "        status_output (Callable): Function for reporting the results of the\n",
    "            repair attempt.\n",
    "\n",
    "    Returns:\n",
    "        pydicom.Dataset: The DICOM dataset with any repairs made.\n",
    "    '''\n",
    "    message_format = ''.join([\n",
    "        'Mismatched Institution Addresses Suspected.',\n",
    "        '\\tAddress: \"{address}\"',\n",
    "        ' Replaced with blank string.'\n",
    "        ])\n",
    "    if 'InstitutionAddress' in dataset:\n",
    "        address = dataset.data_element('InstitutionAddress').value\n",
    "        if 'Mississauga' in address:\n",
    "            message = message_format.format(address=address)\n",
    "            status_output(message)\n",
    "            dataset.data_element('InstitutionAddress').value = ''\n",
    "    return dataset\n"
   ]
  },
  {
   "cell_type": "markdown",
   "metadata": {},
   "source": [
    "## Repair all Images in a directory"
   ]
  },
  {
   "cell_type": "markdown",
   "metadata": {},
   "source": [
    "### Data Input and Output paths"
   ]
  },
  {
   "cell_type": "code",
   "execution_count": 11,
   "metadata": {},
   "outputs": [],
   "source": [
    "data_path = Path.cwd() / 'DICOM Test Data'\n",
    "output_path = Path.cwd() / 'Output'\n"
   ]
  },
  {
   "cell_type": "code",
   "execution_count": 12,
   "metadata": {},
   "outputs": [],
   "source": [
    "repair_methods = [\n",
    "    fix_invalid_characters,\n",
    "    fix_incorrect_modality,\n",
    "    fix_incorrect_address\n",
    "    ]\n",
    "perform_repairs(data_path, output_path, repair_methods, status_output)\n"
   ]
  },
  {
   "cell_type": "code",
   "execution_count": null,
   "metadata": {},
   "outputs": [],
   "source": [
    "from collections import Counter\n",
    "from pprint import pprint\n",
    "def drop_name(text: str)->str:\n",
    "    if text.startswith('Checking file'):\n",
    "        return 'Checking file'\n",
    "    else:\n",
    "        new_text = text.replace('\\r', ' ')\n",
    "        new_text = new_text.replace('\\n', ' ')\n",
    "        return new_text\n",
    "stats_log = [drop_name(line) for line in repair_log]\n",
    "\n",
    "stats = Counter(stats_log)\n",
    "for name, count in stats.items():\n",
    "    print(name, count)\n",
    "pprint(stats)\n"
   ]
  }
 ],
 "metadata": {
  "kernelspec": {
   "display_name": "Python 3.9.13 ('DICOM_Repair')",
   "language": "python",
   "name": "python3"
  },
  "language_info": {
   "codemirror_mode": {
    "name": "ipython",
    "version": 3
   },
   "file_extension": ".py",
   "mimetype": "text/x-python",
   "name": "python",
   "nbconvert_exporter": "python",
   "pygments_lexer": "ipython3",
   "version": "3.9.13"
  },
  "orig_nbformat": 4,
  "vscode": {
   "interpreter": {
    "hash": "e3c75f6744847e5ea3f9a356030a1039cdb96230af4967b4ac1effd74159c360"
   }
  }
 },
 "nbformat": 4,
 "nbformat_minor": 2
}
